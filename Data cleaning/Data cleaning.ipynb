{
 "cells": [
  {
   "cell_type": "code",
   "execution_count": 8,
   "id": "64997d8b",
   "metadata": {},
   "outputs": [],
   "source": [
    "import pandas as pd\n",
    "import numpy as np\n",
    "from datetime import datetime, timedelta"
   ]
  },
  {
   "cell_type": "code",
   "execution_count": 9,
   "id": "111cf42b",
   "metadata": {},
   "outputs": [
    {
     "data": {
      "text/html": [
       "<div>\n",
       "<style scoped>\n",
       "    .dataframe tbody tr th:only-of-type {\n",
       "        vertical-align: middle;\n",
       "    }\n",
       "\n",
       "    .dataframe tbody tr th {\n",
       "        vertical-align: top;\n",
       "    }\n",
       "\n",
       "    .dataframe thead th {\n",
       "        text-align: right;\n",
       "    }\n",
       "</style>\n",
       "<table border=\"1\" class=\"dataframe\">\n",
       "  <thead>\n",
       "    <tr style=\"text-align: right;\">\n",
       "      <th></th>\n",
       "      <th>CustomerName</th>\n",
       "      <th>PhoneNo</th>\n",
       "      <th>BusinessDate</th>\n",
       "    </tr>\n",
       "  </thead>\n",
       "  <tbody>\n",
       "    <tr>\n",
       "      <th>0</th>\n",
       "      <td>JAPHET LUKARI</td>\n",
       "      <td>100271812</td>\n",
       "      <td>2023-12-02</td>\n",
       "    </tr>\n",
       "    <tr>\n",
       "      <th>1</th>\n",
       "      <td>Gopinath .</td>\n",
       "      <td>100304056</td>\n",
       "      <td>2023-10-05</td>\n",
       "    </tr>\n",
       "    <tr>\n",
       "      <th>2</th>\n",
       "      <td>ANASTACIA NYAMBURA</td>\n",
       "      <td>100307002</td>\n",
       "      <td>2023-07-03</td>\n",
       "    </tr>\n",
       "    <tr>\n",
       "      <th>3</th>\n",
       "      <td>MARY NYAMBURA</td>\n",
       "      <td>100345700</td>\n",
       "      <td>2023-08-30</td>\n",
       "    </tr>\n",
       "    <tr>\n",
       "      <th>4</th>\n",
       "      <td>CARL GITONGA</td>\n",
       "      <td>100360865</td>\n",
       "      <td>2023-12-14</td>\n",
       "    </tr>\n",
       "  </tbody>\n",
       "</table>\n",
       "</div>"
      ],
      "text/plain": [
       "         CustomerName    PhoneNo BusinessDate\n",
       "0       JAPHET LUKARI  100271812   2023-12-02\n",
       "1          Gopinath .  100304056   2023-10-05\n",
       "2  ANASTACIA NYAMBURA  100307002   2023-07-03\n",
       "3       MARY NYAMBURA  100345700   2023-08-30\n",
       "4        CARL GITONGA  100360865   2023-12-14"
      ]
     },
     "execution_count": 9,
     "metadata": {},
     "output_type": "execute_result"
    }
   ],
   "source": [
    "df = pd.read_excel('Book2.xlsx')\n",
    "df.head()"
   ]
  },
  {
   "cell_type": "code",
   "execution_count": 10,
   "id": "81afd05b",
   "metadata": {},
   "outputs": [
    {
     "name": "stdout",
     "output_type": "stream",
     "text": [
      "<class 'pandas.core.frame.DataFrame'>\n",
      "RangeIndex: 83763 entries, 0 to 83762\n",
      "Data columns (total 3 columns):\n",
      " #   Column        Non-Null Count  Dtype         \n",
      "---  ------        --------------  -----         \n",
      " 0   CustomerName  83762 non-null  object        \n",
      " 1   PhoneNo       83763 non-null  int64         \n",
      " 2   BusinessDate  83763 non-null  datetime64[ns]\n",
      "dtypes: datetime64[ns](1), int64(1), object(1)\n",
      "memory usage: 1.9+ MB\n"
     ]
    }
   ],
   "source": [
    "df.info()"
   ]
  },
  {
   "cell_type": "code",
   "execution_count": 11,
   "id": "d40aa64e",
   "metadata": {},
   "outputs": [
    {
     "name": "stdout",
     "output_type": "stream",
     "text": [
      "             CustomerName    PhoneNo BusinessDate\n",
      "0           JAPHET LUKARI  100271812   2023-12-02\n",
      "1              Gopinath .  100304056   2023-10-05\n",
      "2      ANASTACIA NYAMBURA  100307002   2023-07-03\n",
      "3           MARY NYAMBURA  100345700   2023-08-30\n",
      "4            CARL GITONGA  100360865   2023-12-14\n",
      "...                   ...        ...          ...\n",
      "83758       AHMED MUHAMED  799996779   2023-08-12\n",
      "83759       RUBIS KITENGE  799998005   2023-07-28\n",
      "83760     MOHAMED MOHAMED  799998474   2023-08-15\n",
      "83761             YUSUF Y  799999969   2023-09-13\n",
      "83762         NAILA AHMED  799999994   2023-11-30\n",
      "\n",
      "[83763 rows x 3 columns]\n"
     ]
    }
   ],
   "source": [
    "df['BusinessDate'] = pd.to_datetime(df['BusinessDate'])\n",
    "\n",
    "current_date = datetime.now()\n",
    "six_months_ago = current_date - timedelta(days=180)\n",
    "\n",
    "filtered_df = df[df['BusinessDate'] >= six_months_ago]\n",
    "print(filtered_df)"
   ]
  },
  {
   "cell_type": "code",
   "execution_count": 12,
   "id": "8658fedc",
   "metadata": {},
   "outputs": [],
   "source": [
    "filtered_df.to_csv('Book2.csv')"
   ]
  },
  {
   "cell_type": "code",
   "execution_count": null,
   "id": "6b0e9c1d",
   "metadata": {},
   "outputs": [],
   "source": []
  }
 ],
 "metadata": {
  "kernelspec": {
   "display_name": "Python 3 (ipykernel)",
   "language": "python",
   "name": "python3"
  },
  "language_info": {
   "codemirror_mode": {
    "name": "ipython",
    "version": 3
   },
   "file_extension": ".py",
   "mimetype": "text/x-python",
   "name": "python",
   "nbconvert_exporter": "python",
   "pygments_lexer": "ipython3",
   "version": "3.11.5"
  }
 },
 "nbformat": 4,
 "nbformat_minor": 5
}
