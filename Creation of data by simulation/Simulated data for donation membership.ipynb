{
 "cells": [
  {
   "cell_type": "code",
   "execution_count": 1,
   "id": "fd05c304",
   "metadata": {},
   "outputs": [],
   "source": [
    "import pandas as pd\n",
    "import numpy as np"
   ]
  },
  {
   "cell_type": "code",
   "execution_count": 2,
   "id": "f8fb8857",
   "metadata": {},
   "outputs": [],
   "source": [
    "#Membership status\n",
    "years = ['2014', '2015', '2016', '2017','2018']\n",
    "memberStatus = ['bronze', 'silver', 'gold', 'inactive']"
   ]
  },
  {
   "cell_type": "code",
   "execution_count": 4,
   "id": "e912c516",
   "metadata": {},
   "outputs": [
    {
     "data": {
      "text/html": [
       "<div>\n",
       "<style scoped>\n",
       "    .dataframe tbody tr th:only-of-type {\n",
       "        vertical-align: middle;\n",
       "    }\n",
       "\n",
       "    .dataframe tbody tr th {\n",
       "        vertical-align: top;\n",
       "    }\n",
       "\n",
       "    .dataframe thead th {\n",
       "        text-align: right;\n",
       "    }\n",
       "</style>\n",
       "<table border=\"1\" class=\"dataframe\">\n",
       "  <thead>\n",
       "    <tr style=\"text-align: right;\">\n",
       "      <th></th>\n",
       "      <th>yearJoined</th>\n",
       "      <th>memberStats</th>\n",
       "    </tr>\n",
       "  </thead>\n",
       "  <tbody>\n",
       "    <tr>\n",
       "      <th>0</th>\n",
       "      <td>2014</td>\n",
       "      <td>bronze</td>\n",
       "    </tr>\n",
       "    <tr>\n",
       "      <th>1</th>\n",
       "      <td>2018</td>\n",
       "      <td>silver</td>\n",
       "    </tr>\n",
       "    <tr>\n",
       "      <th>2</th>\n",
       "      <td>2017</td>\n",
       "      <td>bronze</td>\n",
       "    </tr>\n",
       "    <tr>\n",
       "      <th>3</th>\n",
       "      <td>2018</td>\n",
       "      <td>bronze</td>\n",
       "    </tr>\n",
       "    <tr>\n",
       "      <th>4</th>\n",
       "      <td>2018</td>\n",
       "      <td>bronze</td>\n",
       "    </tr>\n",
       "  </tbody>\n",
       "</table>\n",
       "</div>"
      ],
      "text/plain": [
       "  yearJoined memberStats\n",
       "0       2014      bronze\n",
       "1       2018      silver\n",
       "2       2017      bronze\n",
       "3       2018      bronze\n",
       "4       2018      bronze"
      ]
     },
     "execution_count": 4,
     "metadata": {},
     "output_type": "execute_result"
    }
   ],
   "source": [
    "memberYears = np.random.choice(years, 1000,\n",
    "              p = [0.1, 0.1, 0.15, 0.30, 0.35])\n",
    "memberStats = np.random.choice(memberStatus, 1000,\n",
    "              p = [0.5, 0.3, 0.1, 0.1])\n",
    "yearJoined = pd.DataFrame({'yearJoined':memberYears,\n",
    "                           'memberStats':memberStats})\n",
    "yearJoined.head()"
   ]
  },
  {
   "cell_type": "code",
   "execution_count": 7,
   "id": "3320036e",
   "metadata": {},
   "outputs": [],
   "source": [
    "NUM_OF_EMAILS_SENT_WEEKLY = 3\n",
    "\n",
    "#we define several fxns for diff patterns\n",
    "def never_opens(period_rng):\n",
    "    return []\n",
    "\n",
    "def constant_open_rate(period_rng):\n",
    "    n, p = NUM_OF_EMAILS_SENT_WEEKLY, np.random.uniform(0,1)\n",
    "    num_opened = np.random.binomial(n, p, len(period_rng))\n",
    "    return num_opened\n",
    "\n",
    "def increasing_open_rate(period_rng):\n",
    "    return open_rate_with_factor_change(period_rng, np.random.uniform(1.01, 1.30))\n",
    "\n",
    "def decreasing_open_rate(period_rng):\n",
    "    return open_rate_with_factor_change(period_rng, np.random.uniform(0.5, 0.99))\n",
    "\n",
    "def open_rate_with_factor_change(period_rng, fac):\n",
    "    if len(period_rng) < 1:\n",
    "        return[]\n",
    "    times = np.random.randint(0, len(period_rng),\n",
    "                             int(0.1*len(period_rng)))\n",
    "    num_opened = np.zeros(len(period_rng))\n",
    "    for prd in range(0, len(period_rng), 2):\n",
    "        try:\n",
    "            n, p = NUM_OF_EMAILS_SENT_WEEKLY, np.random.uniform(0,1)\n",
    "            num_opened[prd:(prd + 2)] = np.random.binomial(n, p, 2)\n",
    "            p = max(min(1, p *fac), 0)\n",
    "        except:\n",
    "            num_opened[prd] = np.random.binomial(n, p, 1)\n",
    "    for t in range(len(times)):\n",
    "        num_opened[times[t]] = 0\n",
    "    return num_opened    "
   ]
  },
  {
   "cell_type": "code",
   "execution_count": 8,
   "id": "caa3e148",
   "metadata": {},
   "outputs": [],
   "source": [
    "#donation behaviour\n",
    "def produce_donations(period_rng, member_behavior, num_emails, use_id, member_join_year):\n",
    "    donation_amounts = np.array([0, 25, 50, 75, 100, 250, 500, 1000, 1500, 2000])\n",
    "    member_has = np.random.choice(donation_amounts)\n",
    "    \n",
    "    email_fraction = num_emails / (NUM_EMAILS_SENT_WEEKLY * len(period_rng))\n",
    "    \n",
    "    member_gives = member_has * email_fraction\n",
    "    \n",
    "    member_gives_idx = np.where(member_gives >= donation_amounts)[0][-1]\n",
    "    member_gives_idx = max(min(member_gives_idx, len(donation_amounts) - 2), 1)\n",
    "    \n",
    "    num_times_gave = np.random.poisson(2) * (2018 - member_join_year)\n",
    "    times = np.random.randint(0, len(period_rng), num_times_gave)\n",
    "    dons = pd.DataFrame({'member' : [], 'amount' : [], 'timestamp': []})\n",
    "    \n",
    "    for n in range(num_times_gave):\n",
    "        donation = donation_amounts[member_gives_idx + np.random.binomial(1, .3)]\n",
    "        ts = str(period_rng[times[n]].start_time + random_weekly_time_delta())\n",
    "        dons = dons.append(pd.DataFrame({'member' : [use_id], 'amount' : [donation], 'timestamp': [ts]}))\n",
    "\n",
    "    if dons.shape[0] > 0:\n",
    "        dons = dons[dons.amount != 0]\n",
    "# we don't report zero donation events as this would not\n",
    "# be recorded in a real world database\n"
   ]
  },
  {
   "cell_type": "code",
   "execution_count": 16,
   "id": "08bc9fbb",
   "metadata": {},
   "outputs": [],
   "source": [
    "def random_weekly_time_delta():\n",
    "    days_of_week = [d for d in range(7)]\n",
    "    hours_of_day = [h for h in range(11, 23)]\n",
    "    minute_of_hour = [m for m in range(60)]\n",
    "    second_of_minute = [s for s in range(60)]\n",
    "    \n",
    "    return pd.Timedelta(str(np.random.choice(days_of_week)) + \" days\" ) + pd.Timedelta(\n",
    "        str(np.random.choice(hours_of_day))+ \" hours\" ) + pd.Timedelta(\n",
    "        str(np.random.choice(minute_of_hour)) + \" minutes\") + pd.Timedelta(\n",
    "        str(np.random.choice(second_of_minute)) + \" seconds\")"
   ]
  },
  {
   "cell_type": "code",
   "execution_count": null,
   "id": "a09bd366",
   "metadata": {},
   "outputs": [],
   "source": []
  },
  {
   "cell_type": "code",
   "execution_count": null,
   "id": "2f44549f",
   "metadata": {},
   "outputs": [],
   "source": []
  }
 ],
 "metadata": {
  "kernelspec": {
   "display_name": "Python 3 (ipykernel)",
   "language": "python",
   "name": "python3"
  },
  "language_info": {
   "codemirror_mode": {
    "name": "ipython",
    "version": 3
   },
   "file_extension": ".py",
   "mimetype": "text/x-python",
   "name": "python",
   "nbconvert_exporter": "python",
   "pygments_lexer": "ipython3",
   "version": "3.10.9"
  }
 },
 "nbformat": 4,
 "nbformat_minor": 5
}
