{
 "cells": [
  {
   "cell_type": "code",
   "execution_count": 21,
   "id": "8c0ec126",
   "metadata": {},
   "outputs": [
    {
     "name": "stdout",
     "output_type": "stream",
     "text": [
      "                     title  year_release   earnings    country  \\\n",
      "38         American Sniper          2014  350.00000         US   \n",
      "547         The Blind Side          2009  256.00000         US   \n",
      "334                Lincoln          2012  182.00000         US   \n",
      "11        A Beautiful Mind          2001  171.00000         US   \n",
      "124    Catch Me If You Can          2002  164.00000  US/Canada   \n",
      "..                     ...           ...        ...        ...   \n",
      "409                   Nora          2000    0.01230         UK   \n",
      "624       The Look of Love          2013    0.01040      US/UK   \n",
      "183                Ed Gein          2000    0.00571      US/UK   \n",
      "314           Kid Cannabis          2014    0.00557         US   \n",
      "485  Set Fire to the Stars          2014    0.00327         UK   \n",
      "\n",
      "    type_of_subject     lead_actor_actress  lead_actor_actress_known  \n",
      "38         Military         Bradley Cooper                      True  \n",
      "547         Athlete          Quinton Aaron                      True  \n",
      "334    World leader       Daniel Day-Lewis                      True  \n",
      "11         Academic          Russell Crowe                      True  \n",
      "124        Criminal      Leonardo DiCaprio                      True  \n",
      "..              ...                    ...                       ...  \n",
      "409           Other            Susan Lynch                      True  \n",
      "624           Other           Steve Coogan                      True  \n",
      "183        Criminal        Steve Railsback                      True  \n",
      "314        Criminal  Jonathan Daniel Brown                      True  \n",
      "485   Author (poet)            Celyn Jones                      True  \n",
      "\n",
      "[360 rows x 7 columns]\n"
     ]
    }
   ],
   "source": [
    "import pandas as pd\n",
    "\n",
    "def process_data():\n",
    "    # Do not alter this line.\n",
    "    biopics = pd.read_csv(\"biopics.csv\", encoding='latin-1')\n",
    "    \n",
    "    # remove duplicate rows\n",
    "    unique_data = biopics.drop_duplicates().copy()\n",
    "    \n",
    "    # rename the box_office column to earnings\n",
    "    unique_data.rename(columns={\"box_office\":\"earnings\"}, inplace = True)\n",
    "    \n",
    "    # filter out Nan\n",
    "    filtered_data = unique_data.dropna(subset=[\"earnings\"])\n",
    "    \n",
    "    # filter movies released in 1990 or later\n",
    "    filtered_data = filtered_data[filtered_data['year_release'] >= 1990]\n",
    "    \n",
    "    # Convert 'type_of_subject' and 'country' to categorical\n",
    "    filtered_data['type_of_subject'] = filtered_data['type_of_subject'].astype('category')\n",
    "    filtered_data['country'] = filtered_data['country'].astype('category')\n",
    "    \n",
    "    filtered_data['lead_actor_actress_known'] = ~filtered_data['lead_actor_actress'].isna()\n",
    "    \n",
    "    # Update earnings to be in millions of dollars\n",
    "    filtered_data['earnings'] = filtered_data['earnings'] / 1_000_000\n",
    "    \n",
    "    # Reorder columns\n",
    "    column_order = [\"title\", \"year_release\", \"earnings\", \"country\", \"type_of_subject\", \"lead_actor_actress\", \"lead_actor_actress_known\"]\n",
    "    filtered_data = filtered_data[column_order]\n",
    "    \n",
    "    filtered_data = filtered_data.sort_values(by='earnings', ascending=False)\n",
    "        \n",
    "    df = pd.DataFrame(filtered_data)\n",
    "    print(df)\n",
    "    return df.reset_index(drop=True)\n",
    "\n",
    "# Example usage:\n",
    "result_df = process_data()\n",
    "\n"
   ]
  },
  {
   "cell_type": "code",
   "execution_count": null,
   "id": "16074e4c",
   "metadata": {},
   "outputs": [],
   "source": []
  }
 ],
 "metadata": {
  "kernelspec": {
   "display_name": "Python 3 (ipykernel)",
   "language": "python",
   "name": "python3"
  },
  "language_info": {
   "codemirror_mode": {
    "name": "ipython",
    "version": 3
   },
   "file_extension": ".py",
   "mimetype": "text/x-python",
   "name": "python",
   "nbconvert_exporter": "python",
   "pygments_lexer": "ipython3",
   "version": "3.10.9"
  }
 },
 "nbformat": 4,
 "nbformat_minor": 5
}
